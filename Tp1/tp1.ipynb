{
 "cells": [
  {
   "cell_type": "markdown",
   "metadata": {},
   "source": [
    "<img\n",
    "     src=\"tp1.JPG\"/>"
   ]
  },
  {
   "cell_type": "markdown",
   "metadata": {},
   "source": [
    "<b>A quoi sert L’analyse numérique?</b>\n",
    "\n",
    "L’analyse numérique a commencé bien avant la conception des ordinateurs et leur utilisation\n",
    "quotidienne que nous connaissons aujourd’hui. Les premières méthodes ont été développées pour\n",
    "essayer de trouver des moyens rapides et efficaces de s’attaquer à des problèmes soit fastidieux à résoudre à cause de leur grande dimension (systèmes à plusieurs dizaines d’équations par exemple),\n",
    "soit parce qu’il n’existe pas solutions explicites connues même pour certaines équations assez\n",
    "simples en apparence.\n",
    "\n",
    "\n",
    "<b>Quel est son objectif?</b>\n",
    "\n",
    "- Se familiariser avec les bases de l’analyse numérique\n",
    "\n",
    "* Comprendre les concepts présentés dans le cours\n",
    "\n",
    "* Savoir utiliser quelle méthode dans quel cas\n",
    "\n",
    "* Donner un recul critique nécessaire par rapport aux outils numériques\n",
    "utilisés\n",
    "\n",
    "\n",
    "\n",
    "# Méthode de dichotomie:\n",
    "\n",
    "La méthode de dichotomie ou méthode de la bissection est, en mathématiques, un algorithme de recherche d'un zéro d'une fonction qui consiste à répéter des partages d’un intervalle en deux parties puis à sélectionner le sous-intervalle dans lequel existe un zéro de la fonction.\n",
    "\n",
    "\n",
    "<b>Principe: </b>\n",
    "\n",
    "On considère deux nombres réels a et b et une fonction réelle f continue sur l'intervalle [a, b] telle que f(a) et f(b) soient de signes opposés. Supposons que nous voulions résoudre l'équation f(x) = 0. D'après le théorème des valeurs intermédiaires, f a au moins un zéro dans l’intervalle [a, b]. La méthode de dichotomie consiste à diviser l’intervalle en deux en calculant m = (a+b) / 2. Il y a maintenant deux possibilités : ou f(a) et f(m) sont de signes contraires, ou f(m) et f(b) sont de signes contraires.\n",
    "\n",
    "\n",
    "\n",
    "\n",
    "<img\n",
    "     src=\"tp1.1.png\"/>\n",
    "\n",
    "\n",
    "\n",
    "Étapes successives de la méthode de dichotomie avec comme point de départ, l'intervalle [a1;b1]. Le zéro de la fonction est en rouge.\n",
    "\n"
   ]
  },
  {
   "cell_type": "markdown",
   "metadata": {},
   "source": [
    "<b>Exercice :</b>\n",
    "On considère l'équation :      f(x) = x³+x²-3x-3=0\n",
    "\n",
    "1) Dessiner la courbe de f dans l'intervalle [-2;2], puis trouver des intervalles convenables pour appliquer la méthode de bisection.\n",
    "\n",
    "2) Utiliser un programme dicho.m qui permettra de trouver les solutions de l'équation f(x)=0 avec eps=0.001.\n",
    "\n",
    "3) Modifier le programme dicho.m pour qu'il donne le nombre d'itération nécessaire pour avoir la solution à eps près.\n",
    "\n",
    "\n",
    "\n",
    "\n",
    "\n",
    "\n",
    "\n",
    "\n",
    "\n",
    "\n",
    "\n",
    "\n",
    "\n",
    "\n",
    "\n"
   ]
  },
  {
   "cell_type": "code",
   "execution_count": 1,
   "metadata": {},
   "outputs": [],
   "source": [
    "import matplotlib . pyplot as plt\n",
    "import numpy as np"
   ]
  },
  {
   "cell_type": "code",
   "execution_count": 2,
   "metadata": {},
   "outputs": [
    {
     "data": {
      "image/png": "[encoded data removed]",
      "text/plain": [
       "<Figure size 432x288 with 1 Axes>"
      ]
     },
     "metadata": {
      "needs_background": "light"
     },
     "output_type": "display_data"
    }
   ],
   "source": [
    "def f ( x ):\n",
    "    return x **3+ x**2- 3*x - 3\n",
    "x=np.linspace ( -2 ,2)\n",
    "y=f(x)\n",
    "plt.title(\"solution dans [-2,2]\");\n",
    "plt.xlabel(\"x\")\n",
    "plt.ylabel(\"f(x)\")\n",
    "plt.grid(True)\n",
    "plt.plot (x,y)\n",
    "plt.axhline()\n",
    "plt.show()"
   ]
  },
  {
   "cell_type": "markdown",
   "metadata": {},
   "source": [
    "<b>D'après le graphe, on a 3 solutions dans [-2,2] </b>\n",
    "\n",
    "\n",
    "  <b>La version python de la fonction dicho avec le nombre d'itération:</b>  \n"
   ]
  },
  {
   "cell_type": "code",
   "execution_count": 3,
   "metadata": {},
   "outputs": [],
   "source": [
    "def dichotomie (f ,a ,b , epsilon ):\n",
    "\n",
    "    g , d = min (a , b ) , max (a , b )\n",
    "    valg , vald = f ( g ) , f ( d )\n",
    "    n = 0\n",
    "    while d - g > epsilon :\n",
    "        n += 1\n",
    "        m = ( g + d )/2\n",
    "        valm = f ( m )\n",
    "        if valg * valm < 0 :\n",
    "            d = m\n",
    "            vald = valm\n",
    "        else :\n",
    "            g = m\n",
    "            valg = valm\n",
    "    print (\" nombre d'itérations nécessaires :\", n )\n",
    "    return ( g + d )/2\n"
   ]
  },
  {
   "cell_type": "code",
   "execution_count": 4,
   "metadata": {},
   "outputs": [
    {
     "name": "stdout",
     "output_type": "stream",
     "text": [
      " nombre d'itérations nécessaires : 12\n"
     ]
    },
    {
     "data": {
      "text/plain": [
       "1.73193359375"
      ]
     },
     "execution_count": 4,
     "metadata": {},
     "output_type": "execute_result"
    }
   ],
   "source": [
    "dichotomie ( f, -2 , 2 , 0.001)"
   ]
  },
  {
   "cell_type": "code",
   "execution_count": 5,
   "metadata": {},
   "outputs": [
    {
     "name": "stdout",
     "output_type": "stream",
     "text": [
      " nombre d'itérations nécessaires : 0\n",
      "-1.75\n"
     ]
    }
   ],
   "source": [
    "x3=dichotomie(f,-2,-1.5,10)\n",
    "print(x3)"
   ]
  },
  {
   "cell_type": "code",
   "execution_count": 6,
   "metadata": {},
   "outputs": [
    {
     "name": "stdout",
     "output_type": "stream",
     "text": [
      " nombre d'itérations nécessaires : 13\n"
     ]
    },
    {
     "data": {
      "text/plain": [
       "-1.732025146484375"
      ]
     },
     "execution_count": 6,
     "metadata": {},
     "output_type": "execute_result"
    }
   ],
   "source": [
    "dichotomie ( f, -2 , -1.5 , 0.0001)"
   ]
  },
  {
   "cell_type": "code",
   "execution_count": 7,
   "metadata": {},
   "outputs": [
    {
     "name": "stdout",
     "output_type": "stream",
     "text": [
      " nombre d'itérations nécessaires : 9\n",
      "-1.73193359375\n",
      " nombre d'itérations nécessaires : 10\n",
      "-0.50048828125\n",
      " nombre d'itérations nécessaires : 9\n",
      "1.73193359375\n"
     ]
    }
   ],
   "source": [
    "intervalle=[[-2,-1.5],[-1.5,-0.5],[1.5,2]]\n",
    "for k in intervalle:\n",
    "    print(dichotomie(f,k[0],k[1],0.001))"
   ]
  },
  {
   "cell_type": "markdown",
   "metadata": {},
   "source": [
    "# Nombre d'étiration:\n",
    " Le nombre d'itération N nécéssaire à la méthode de la dichotomie pour trouver α à 10^-p prés\n",
    "\n",
    "                                  N≥E((ln(b-a)+p ln(10))/ln(2))+1\n",
    "\n"
   ]
  },
  {
   "cell_type": "code",
   "execution_count": 9,
   "metadata": {},
   "outputs": [],
   "source": [
    "def itteration(a,b,k):\n",
    "    return int((np.log(b-a)+k*np.log(10)/np.log(2)))+1"
   ]
  },
  {
   "cell_type": "code",
   "execution_count": 10,
   "metadata": {},
   "outputs": [
    {
     "data": {
      "text/plain": [
       "16"
      ]
     },
     "execution_count": 10,
     "metadata": {},
     "output_type": "execute_result"
    }
   ],
   "source": [
    "itteration(-2,-1.5,5)"
   ]
  },
  {
   "cell_type": "code",
   "execution_count": 11,
   "metadata": {},
   "outputs": [
    {
     "name": "stdout",
     "output_type": "stream",
     "text": [
      " nombre d'itérations nécessaires : 16\n"
     ]
    },
    {
     "data": {
      "text/plain": [
       "-1.7320518493652344"
      ]
     },
     "execution_count": 11,
     "metadata": {},
     "output_type": "execute_result"
    }
   ],
   "source": [
    "#alpha 1\n",
    "dichotomie(f,-2,-1.5,10**(-5))\n",
    "#à 10^-8\n"
   ]
  },
  {
   "cell_type": "code",
   "execution_count": 12,
   "metadata": {},
   "outputs": [
    {
     "name": "stdout",
     "output_type": "stream",
     "text": [
      " nombre d'itérations nécessaires : 17\n"
     ]
    },
    {
     "data": {
      "text/plain": [
       "-0.5000038146972656"
      ]
     },
     "execution_count": 12,
     "metadata": {},
     "output_type": "execute_result"
    }
   ],
   "source": [
    "#alpha 1\n",
    "dichotomie(f,-1.5,-0.5,10**(-5))\n",
    "#à 10^-8\n"
   ]
  },
  {
   "cell_type": "markdown",
   "metadata": {},
   "source": [
    "# Méthode graphique pour la recherche de la solution¶\n"
   ]
  },
  {
   "cell_type": "code",
   "execution_count": 14,
   "metadata": {},
   "outputs": [
    {
     "data": {
      "image/png": "[encoded data removed]",
      "text/plain": [
       "<Figure size 432x288 with 4 Axes>"
      ]
     },
     "metadata": {
      "needs_background": "light"
     },
     "output_type": "display_data"
    }
   ],
   "source": [
    "t=np.linspace(1.7,1.75,100)\n",
    "plt.subplot(2,2,1)\n",
    "plt.plot(t,f(t),'r')\n",
    "plt.grid(True)\n",
    "#################\n",
    "t=np.linspace(1.2,1.4,100)\n",
    "plt.subplot(2,2,2)\n",
    "plt.plot(t,f(t),'r')\n",
    "plt.grid(True)\n",
    "#################\n",
    "t=np.linspace(1.5,1.8,100)\n",
    "plt.subplot(2,2,3)\n",
    "plt.plot(t,f(t),'r')\n",
    "plt.grid(True)\n",
    "#################\n",
    "t=np.linspace(1.365,1.366,100)\n",
    "plt.subplot(2,2,4)\n",
    "plt.plot(t,f(t),'r')\n",
    "plt.grid(True)"
   ]
  },
  {
   "cell_type": "markdown",
   "metadata": {},
   "source": [
    "On considère l'équation :\n",
    "\n",
    "1) Dessiner la courbe de f dans l'intervalle [1;2], puis trouver une valeur approché de la solution à 0.001 près (En >utilisant la fonction zoom du graphique).\n",
    "\n",
    "2) Vérifier que cette équation est équivalente aux 3 schéma du point fixe suivant:\n",
    "\n",
    "a)g₁(x)=1/2√(10-x³)=x\n",
    "\n",
    "b)g₂(x)=√10/(4+x)=x\n",
    "\n",
    "c)g₃(x)=x-x³-4x²+10=x\n",
    "\n",
    "3) Ecrire puis appliquer une fonction Matlab que l'on appellera pointfixe.m aux trois schémas précédents en prenant >x0=1.5;eps=0.001.\n",
    "\n",
    "4) Quelle est la fonction (parmi g1, g2 et g3) qui donne la convergence la plus rapide?"
   ]
  },
  {
   "cell_type": "code",
   "execution_count": 15,
   "metadata": {},
   "outputs": [
    {
     "data": {
      "image/png": "[encoded data removed]",
      "text/plain": [
       "<Figure size 432x288 with 1 Axes>"
      ]
     },
     "metadata": {
      "needs_background": "light"
     },
     "output_type": "display_data"
    }
   ],
   "source": [
    "f=lambda x:x**3+4*x**2-10\n",
    "x=np.linspace ( 1 ,2)\n",
    "y=f(x)\n",
    "plt.title(\"solution dans [1,2]\");\n",
    "plt.xlabel(\"x\")\n",
    "plt.ylabel(\"f(x)\")\n",
    "plt.grid(True)\n",
    "plt.plot (x,y)\n",
    "plt.axhline()\n",
    "plt.show()"
   ]
  },
  {
   "cell_type": "markdown",
   "metadata": {},
   "source": [
    "<b>D'aprés le graphe, on a une unique solution.</b>\n",
    "\n",
    "\n",
    "# Méthode graphique pour la recherche de la solution¶\n"
   ]
  },
  {
   "cell_type": "code",
   "execution_count": 16,
   "metadata": {},
   "outputs": [
    {
     "data": {
      "image/png": "[encoded data removed]",
      "text/plain": [
       "<Figure size 432x288 with 4 Axes>"
      ]
     },
     "metadata": {
      "needs_background": "light"
     },
     "output_type": "display_data"
    }
   ],
   "source": [
    "x=np.linspace ( 1 ,2, 100)\n",
    "plt.subplot(2,2,1)\n",
    "plt.plot(x,f(x),'r')\n",
    "plt.grid(True)\n",
    "####################\n",
    "x=np.linspace ( 1.2 ,1.4, 100)\n",
    "plt.subplot(2,2,2)\n",
    "plt.plot(x,f(x),'r')\n",
    "plt.grid(True)\n",
    "###################\n",
    "x=np.linspace ( 1.35 ,1.4, 100)\n",
    "plt.subplot(2,2,3)\n",
    "plt.plot(x,f(x),'r')\n",
    "plt.grid(True)\n",
    "###################\n",
    "x=np.linspace ( 1.365 ,1.366, 100)\n",
    "plt.subplot(2,2,4)\n",
    "plt.plot(x,f(x),'r')\n",
    "plt.grid(True)"
   ]
  },
  {
   "cell_type": "markdown",
   "metadata": {},
   "source": [
    "justification théorique du g1:\n",
    "\n",
    "x³+4x²-10=0\n",
    "\n",
    "4x²=10-x³\n",
    "\n",
    "2x=√(10-x³)\n",
    "\n",
    "x=1/2√(10-x³)\n",
    "\n",
    "# Calcul symbolique de la dérivée\n"
   ]
  },
  {
   "cell_type": "code",
   "execution_count": 17,
   "metadata": {},
   "outputs": [],
   "source": [
    "from sympy import *\n",
    "import numpy as np\n",
    "x, y, z = symbols('x y z')\n",
    "init_printing(use_unicode=True)\n",
    "g1=lambda x: 1/2*sqrt(10-x**3)"
   ]
  },
  {
   "cell_type": "code",
   "execution_count": 18,
   "metadata": {},
   "outputs": [
    {
     "data": {
      "image/png": "[encoded data removed]",
      "text/latex": [
       "$\\displaystyle -0.5117446282927461$"
      ],
      "text/plain": [
       "-0.5117446282927461"
      ]
     },
     "execution_count": 18,
     "metadata": {},
     "output_type": "execute_result"
    }
   ],
   "source": [
    "dg1=lambdify(x,diff(g1(x),x,1))\n",
    "dg1(1.365)"
   ]
  },
  {
   "cell_type": "markdown",
   "metadata": {},
   "source": [
    "<b>==> le dérivé de g1 est négatif <0<1 donc , donc la fonction converge localement</b>\n",
    "\n",
    "<b>Etude de la convergences de g2 et g3:</b>"
   ]
  },
  {
   "cell_type": "markdown",
   "metadata": {},
   "source": [
    "# La méthode du point fixe:\n",
    "\n",
    "\n",
    "\n",
    "\n",
    "méthode simple mais qui ne fonctionne que si la fonction coupe l'axe des x. Méthode du point fixe: on remplace la recherche d'une racine de f par la recherche de point fixe d'une fonction g fabriquée uniquement dans ce but.\n",
    "\n",
    "L’objectif ce méthode est la résolution d’équation du type : <b>f(x)=0</b>\n",
    "\n",
    "L’idée générale est de se ramener à une équation du type :<b>g(x)=x</b>"
   ]
  },
  {
   "cell_type": "code",
   "execution_count": 19,
   "metadata": {},
   "outputs": [],
   "source": [
    "def point_fixe(f,x0,ep,n):\n",
    "    a=x0\n",
    "    for i in range(n):\n",
    "        x=a\n",
    "        a=f(x)\n",
    "        erreur=abs(a-x)\n",
    "        print(a)\n",
    "        if erreur<ep:\n",
    "            return a,i\n",
    "    return \"la fonction est diverge\""
   ]
  },
  {
   "cell_type": "code",
   "execution_count": 20,
   "metadata": {},
   "outputs": [],
   "source": [
    "import numpy as np\n",
    "x, y, z = symbols('x y z')\n",
    "init_printing(use_unicode=True)\n",
    "g1=lambda x: 1/2*sqrt(10-x**3)\n",
    "g2=lambda x: sqrt(10/(x+4))\n",
    "g3=lambda x: x-x**3-4*x**2+10"
   ]
  },
  {
   "cell_type": "code",
   "execution_count": 21,
   "metadata": {},
   "outputs": [
    {
     "name": "stdout",
     "output_type": "stream",
     "text": [
      "1.34839972492648\n",
      "1.36737637199128\n",
      "1.36495701540249\n",
      "1.36526474811344\n"
     ]
    },
    {
     "data": {
      "image/png": "[encoded data removed]",
      "text/latex": [
       "$\\displaystyle \\left( 1.36526474811344, \\  3\\right)$"
      ],
      "text/plain": [
       "(1.36526474811344, 3)"
      ]
     },
     "execution_count": 21,
     "metadata": {},
     "output_type": "execute_result"
    }
   ],
   "source": [
    "point_fixe(g2,1.5,0.001,50)"
   ]
  },
  {
   "cell_type": "code",
   "execution_count": 22,
   "metadata": {},
   "outputs": [
    {
     "name": "stdout",
     "output_type": "stream",
     "text": [
      "-0.875\n",
      "6.732421875\n",
      "-469.72001200169325\n",
      "102754555.18738511\n",
      "-1.0849338705317464e+24\n",
      "1.277055591444378e+72\n",
      "-2.082712908581025e+216\n"
     ]
    },
    {
     "ename": "OverflowError",
     "evalue": "(34, 'Result too large')",
     "output_type": "error",
     "traceback": [
      "\u001b[1;31m---------------------------------------------------------------------------\u001b[0m",
      "\u001b[1;31mOverflowError\u001b[0m                             Traceback (most recent call last)",
      "\u001b[1;32m<ipython-input-22-f23bac0d0a3e>\u001b[0m in \u001b[0;36m<module>\u001b[1;34m\u001b[0m\n\u001b[1;32m----> 1\u001b[1;33m \u001b[0mpoint_fixe\u001b[0m\u001b[1;33m(\u001b[0m\u001b[0mg3\u001b[0m\u001b[1;33m,\u001b[0m\u001b[1;36m1.5\u001b[0m\u001b[1;33m,\u001b[0m\u001b[1;36m0.001\u001b[0m\u001b[1;33m,\u001b[0m\u001b[1;36m50\u001b[0m\u001b[1;33m)\u001b[0m\u001b[1;33m\u001b[0m\u001b[1;33m\u001b[0m\u001b[0m\n\u001b[0m",
      "\u001b[1;32m<ipython-input-19-fd503cb651fc>\u001b[0m in \u001b[0;36mpoint_fixe\u001b[1;34m(f, x0, ep, n)\u001b[0m\n\u001b[0;32m      3\u001b[0m     \u001b[1;32mfor\u001b[0m \u001b[0mi\u001b[0m \u001b[1;32min\u001b[0m \u001b[0mrange\u001b[0m\u001b[1;33m(\u001b[0m\u001b[0mn\u001b[0m\u001b[1;33m)\u001b[0m\u001b[1;33m:\u001b[0m\u001b[1;33m\u001b[0m\u001b[1;33m\u001b[0m\u001b[0m\n\u001b[0;32m      4\u001b[0m         \u001b[0mx\u001b[0m\u001b[1;33m=\u001b[0m\u001b[0ma\u001b[0m\u001b[1;33m\u001b[0m\u001b[1;33m\u001b[0m\u001b[0m\n\u001b[1;32m----> 5\u001b[1;33m         \u001b[0ma\u001b[0m\u001b[1;33m=\u001b[0m\u001b[0mf\u001b[0m\u001b[1;33m(\u001b[0m\u001b[0mx\u001b[0m\u001b[1;33m)\u001b[0m\u001b[1;33m\u001b[0m\u001b[1;33m\u001b[0m\u001b[0m\n\u001b[0m\u001b[0;32m      6\u001b[0m         \u001b[0merreur\u001b[0m\u001b[1;33m=\u001b[0m\u001b[0mabs\u001b[0m\u001b[1;33m(\u001b[0m\u001b[0ma\u001b[0m\u001b[1;33m-\u001b[0m\u001b[0mx\u001b[0m\u001b[1;33m)\u001b[0m\u001b[1;33m\u001b[0m\u001b[1;33m\u001b[0m\u001b[0m\n\u001b[0;32m      7\u001b[0m         \u001b[0mprint\u001b[0m\u001b[1;33m(\u001b[0m\u001b[0ma\u001b[0m\u001b[1;33m)\u001b[0m\u001b[1;33m\u001b[0m\u001b[1;33m\u001b[0m\u001b[0m\n",
      "\u001b[1;32m<ipython-input-20-86c3aab22cf0>\u001b[0m in \u001b[0;36m<lambda>\u001b[1;34m(x)\u001b[0m\n\u001b[0;32m      4\u001b[0m \u001b[0mg1\u001b[0m\u001b[1;33m=\u001b[0m\u001b[1;32mlambda\u001b[0m \u001b[0mx\u001b[0m\u001b[1;33m:\u001b[0m \u001b[1;36m1\u001b[0m\u001b[1;33m/\u001b[0m\u001b[1;36m2\u001b[0m\u001b[1;33m*\u001b[0m\u001b[0msqrt\u001b[0m\u001b[1;33m(\u001b[0m\u001b[1;36m10\u001b[0m\u001b[1;33m-\u001b[0m\u001b[0mx\u001b[0m\u001b[1;33m**\u001b[0m\u001b[1;36m3\u001b[0m\u001b[1;33m)\u001b[0m\u001b[1;33m\u001b[0m\u001b[1;33m\u001b[0m\u001b[0m\n\u001b[0;32m      5\u001b[0m \u001b[0mg2\u001b[0m\u001b[1;33m=\u001b[0m\u001b[1;32mlambda\u001b[0m \u001b[0mx\u001b[0m\u001b[1;33m:\u001b[0m \u001b[0msqrt\u001b[0m\u001b[1;33m(\u001b[0m\u001b[1;36m10\u001b[0m\u001b[1;33m/\u001b[0m\u001b[1;33m(\u001b[0m\u001b[0mx\u001b[0m\u001b[1;33m+\u001b[0m\u001b[1;36m4\u001b[0m\u001b[1;33m)\u001b[0m\u001b[1;33m)\u001b[0m\u001b[1;33m\u001b[0m\u001b[1;33m\u001b[0m\u001b[0m\n\u001b[1;32m----> 6\u001b[1;33m \u001b[0mg3\u001b[0m\u001b[1;33m=\u001b[0m\u001b[1;32mlambda\u001b[0m \u001b[0mx\u001b[0m\u001b[1;33m:\u001b[0m \u001b[0mx\u001b[0m\u001b[1;33m-\u001b[0m\u001b[0mx\u001b[0m\u001b[1;33m**\u001b[0m\u001b[1;36m3\u001b[0m\u001b[1;33m-\u001b[0m\u001b[1;36m4\u001b[0m\u001b[1;33m*\u001b[0m\u001b[0mx\u001b[0m\u001b[1;33m**\u001b[0m\u001b[1;36m2\u001b[0m\u001b[1;33m+\u001b[0m\u001b[1;36m10\u001b[0m\u001b[1;33m\u001b[0m\u001b[1;33m\u001b[0m\u001b[0m\n\u001b[0m",
      "\u001b[1;31mOverflowError\u001b[0m: (34, 'Result too large')"
     ]
    }
   ],
   "source": [
    "point_fixe(g3,1.5,0.001,50)"
   ]
  },
  {
   "cell_type": "code",
   "execution_count": 23,
   "metadata": {},
   "outputs": [
    {
     "name": "stdout",
     "output_type": "stream",
     "text": [
      "1.28695376762338\n",
      "1.40254080353958\n",
      "1.34545837402329\n",
      "1.37517025281604\n",
      "1.36009419276173\n",
      "1.36784696759213\n",
      "1.36388700388402\n",
      "1.36591673339004\n",
      "1.36487821719368\n",
      "1.36541006116996\n"
     ]
    },
    {
     "data": {
      "image/png": "[encoded data removed]",
      "text/latex": [
       "$\\displaystyle \\left( 1.36541006116996, \\  9\\right)$"
      ],
      "text/plain": [
       "(1.36541006116996, 9)"
      ]
     },
     "execution_count": 23,
     "metadata": {},
     "output_type": "execute_result"
    }
   ],
   "source": [
    "point_fixe(g1,1.5,0.001,50)\n"
   ]
  },
  {
   "cell_type": "markdown",
   "metadata": {},
   "source": [
    "le nombre d'itération de la fonction \"g1\" est égale à \"9\"\n",
    "\n",
    "le nombre d'itération de la fonction \"g2\" est égale à \"3\"\n",
    "\n",
    "le nombre d'itération de la fonction \"g3\" est égale à \"34\"\n",
    "\n",
    "<b>==>la fonction \"g2\" donne la convergence le plus rapide avec le nombre de itération est égale à \"3\"</b>"
   ]
  },
  {
   "cell_type": "markdown",
   "metadata": {},
   "source": [
    "# La méthode du Newton:\n",
    "\n",
    "En analyse numérique, la méthode de Newton ou méthode de Newton-Raphson1 est, dans son application la plus simple, un algorithme efficace pour trouver numériquement une approximation précise d'un zéro (ou racine) d'une fonction réelle d'une variable réelle.\n",
    "\n",
    "\n",
    "\n",
    "<img\n",
    "     src=\"tp1.4.png\"/>\n",
    "\n",
    "\n",
    "\n"
   ]
  },
  {
   "cell_type": "markdown",
   "metadata": {},
   "source": [
    "<b>Exercice 4:</b>"
   ]
  },
  {
   "cell_type": "markdown",
   "metadata": {},
   "source": [
    "1) On considère la fonction f(x)=e^{-x}-x. Ecrire puis appliquer une fonction Matlab que l'on appellera newton.m à la >fonction f, en prenant x0=0, eps=0.001.\n",
    "\n",
    "\n",
    "2) Montrer que l'équation f(x)=0 admet une solution unique que l'on peut obtenir en utilisant la méthode de Newton à partir de x0=1.\n",
    "\n"
   ]
  },
  {
   "cell_type": "code",
   "execution_count": 25,
   "metadata": {},
   "outputs": [],
   "source": [
    "def newtonn(f,fprime,a,eps):\n",
    "    x1=a\n",
    "    x2=x1-f(x1)/fprime(x1)\n",
    "    while abs(x1-x2)>eps :\n",
    "        x1=x2\n",
    "        x2=x1-f(x1)/fprime(x1)\n",
    "    return x2"
   ]
  },
  {
   "cell_type": "code",
   "execution_count": 26,
   "metadata": {},
   "outputs": [
    {
     "data": {
      "image/png": "[encoded data removed]",
      "text/latex": [
       "$\\displaystyle 0.5671431650348622$"
      ],
      "text/plain": [
       "0.5671431650348622"
      ]
     },
     "execution_count": 26,
     "metadata": {},
     "output_type": "execute_result"
    }
   ],
   "source": [
    "import math\n",
    "from sympy import *\n",
    "from sympy.abc import x\n",
    "\n",
    "f=lambda x: math.exp(-x)-x\n",
    "fprime=lambda x: -math.exp(-x)-1\n",
    "newtonn(f,fprime,0,0.001)"
   ]
  },
  {
   "cell_type": "markdown",
   "metadata": {},
   "source": [
    "# Conclusion:\n",
    "\n",
    "Pour résoudre un problème mathématique bien posé, on utilise dans ce TP des algorithmes et des méthodes:\n",
    "    - Méthode de dichotomie\n",
    "    - Méthode de Newton.\n",
    "    - Méthode de point fixe\n",
    "    - la fonction Horner\n",
    "    \n",
    "En conclusion, le choix d'un bon algorithme numérique est essentiel pour obtenir le bon résultat."
   ]
  },
  {
   "cell_type": "code",
   "execution_count": null,
   "metadata": {},
   "outputs": [],
   "source": []
  },
  {
   "cell_type": "code",
   "execution_count": null,
   "metadata": {},
   "outputs": [],
   "source": []
  }
 ],
 "metadata": {
  "kernelspec": {
   "display_name": "Python 3",
   "language": "python",
   "name": "python3"
  },
  "language_info": {
   "codemirror_mode": {
    "name": "ipython",
    "version": 3
   },
   "file_extension": ".py",
   "mimetype": "text/x-python",
   "name": "python",
   "nbconvert_exporter": "python",
   "pygments_lexer": "ipython3",
   "version": "3.8.3"
  }
 },
 "nbformat": 4,
 "nbformat_minor": 4
}
