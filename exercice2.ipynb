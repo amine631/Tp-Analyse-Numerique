{
 "cells": [
  {
   "cell_type": "code",
   "execution_count": 1,
   "metadata": {},
   "outputs": [],
   "source": [
    "import matplotlib . pyplot as plt\n",
    "import numpy as np\n",
    "\n"
   ]
  },
  {
   "cell_type": "code",
   "execution_count": 11,
   "metadata": {},
   "outputs": [
    {
     "data": {
      "image/png": "[encoded data removed]",
      "text/plain": [
       "<Figure size 432x288 with 1 Axes>"
      ]
     },
     "metadata": {
      "needs_background": "light"
     },
     "output_type": "display_data"
    }
   ],
   "source": [
    "def f ( x ):\n",
    "    return x **3+ x**2- 3*x - 3\n",
    "x=np.linspace ( -2 ,2)\n",
    "y=f(x)\n",
    "plt.plot (x,y)\n",
    "plt.axhline()\n",
    "plt.show()"
   ]
  },
  {
   "cell_type": "code",
   "execution_count": 12,
   "metadata": {},
   "outputs": [],
   "source": [
    "def dichotomie (f ,a ,b , epsilon ):\n",
    "\n",
    "    g , d = min (a , b ) , max (a , b )\n",
    "    valg , vald = f ( g ) , f ( d )\n",
    "    n = 0\n",
    "    while d - g > epsilon :\n",
    "        n += 1\n",
    "        m = ( g + d )/2\n",
    "        valm = f ( m )\n",
    "        if valg * valm < 0 :\n",
    "            d = m\n",
    "            vald = valm\n",
    "        else :\n",
    "            g = m\n",
    "            valg = valm\n",
    "    print (\" nombre d'itérations nécessaires :\", n )\n",
    "    return ( g + d )/2"
   ]
  },
  {
   "cell_type": "code",
   "execution_count": 9,
   "metadata": {},
   "outputs": [
    {
     "name": "stdout",
     "output_type": "stream",
     "text": [
      " nombre d'ité rations né cessaires : 12\n"
     ]
    },
    {
     "data": {
      "text/plain": [
       "1.73193359375"
      ]
     },
     "execution_count": 9,
     "metadata": {},
     "output_type": "execute_result"
    }
   ],
   "source": [
    "dichotomie ( f, -2 , 2 , 0.001)"
   ]
  },
  {
   "cell_type": "code",
   "execution_count": null,
   "metadata": {},
   "outputs": [],
   "source": []
  }
 ],
 "metadata": {
  "kernelspec": {
   "display_name": "Python 3",
   "language": "python",
   "name": "python3"
  },
  "language_info": {
   "codemirror_mode": {
    "name": "ipython",
    "version": 3
   },
   "file_extension": ".py",
   "mimetype": "text/x-python",
   "name": "python",
   "nbconvert_exporter": "python",
   "pygments_lexer": "ipython3",
   "version": "3.8.3"
  }
 },
 "nbformat": 4,
 "nbformat_minor": 4
}
